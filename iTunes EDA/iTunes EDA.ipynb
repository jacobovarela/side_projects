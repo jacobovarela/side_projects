{
 "cells": [
  {
   "cell_type": "markdown",
   "metadata": {},
   "source": [
    "# iTunes Exploratory Data Analysis"
   ]
  },
  {
   "cell_type": "markdown",
   "metadata": {},
   "source": [
    "Importing libraries/modules:"
   ]
  },
  {
   "cell_type": "code",
   "execution_count": 1,
   "metadata": {},
   "outputs": [],
   "source": [
    "import pandas as pd\n",
    "import matplotlib.pyplot as plt"
   ]
  },
  {
   "cell_type": "markdown",
   "metadata": {},
   "source": [
    "Read txt/csv file with the information from my Itunes library:"
   ]
  },
  {
   "cell_type": "code",
   "execution_count": 2,
   "metadata": {},
   "outputs": [],
   "source": [
    "df = pd.read_csv('Music20180927.txt', sep='\\t')"
   ]
  },
  {
   "cell_type": "code",
   "execution_count": 3,
   "metadata": {},
   "outputs": [
    {
     "data": {
      "text/plain": [
       "(21725, 31)"
      ]
     },
     "execution_count": 3,
     "metadata": {},
     "output_type": "execute_result"
    }
   ],
   "source": [
    "df.shape"
   ]
  },
  {
   "cell_type": "code",
   "execution_count": 4,
   "metadata": {},
   "outputs": [
    {
     "data": {
      "text/plain": [
       "Index(['Name', 'Artist', 'Composer', 'Album', 'Grouping', 'Work',\n",
       "       'Movement Number', 'Movement Count', 'Movement Name', 'Genre', 'Size',\n",
       "       'Time', 'Disc Number', 'Disc Count', 'Track Number', 'Track Count',\n",
       "       'Year', 'Date Modified', 'Date Added', 'Bit Rate', 'Sample Rate',\n",
       "       'Volume Adjustment', 'Kind', 'Equaliser', 'Comments', 'Plays',\n",
       "       'Last Played', 'Skips', 'Last Skipped', 'My Rating', 'Location'],\n",
       "      dtype='object')"
      ]
     },
     "execution_count": 4,
     "metadata": {},
     "output_type": "execute_result"
    }
   ],
   "source": [
    "df.columns"
   ]
  },
  {
   "cell_type": "markdown",
   "metadata": {},
   "source": [
    "---"
   ]
  },
  {
   "cell_type": "markdown",
   "metadata": {},
   "source": [
    "Some basic information"
   ]
  },
  {
   "cell_type": "code",
   "execution_count": 5,
   "metadata": {},
   "outputs": [
    {
     "name": "stdout",
     "output_type": "stream",
     "text": [
      "Number of different artists: \n",
      "2245\n",
      "Number of different named songs: \n",
      "20166\n",
      "Number of albums: \n",
      "2584\n"
     ]
    }
   ],
   "source": [
    "## Number of different Artists\n",
    "print('Number of different artists: ')\n",
    "print(df.Artist.value_counts().shape[0])\n",
    "print('Number of different named songs: ')\n",
    "print(df.Name.value_counts().shape[0])\n",
    "print('Number of albums: ')\n",
    "print(df.Album.value_counts().shape[0])"
   ]
  },
  {
   "cell_type": "markdown",
   "metadata": {},
   "source": [
    "---"
   ]
  },
  {
   "cell_type": "markdown",
   "metadata": {},
   "source": [
    "### Who do I listen to the most?"
   ]
  },
  {
   "cell_type": "markdown",
   "metadata": {},
   "source": [
    "My most listened to artists since 2008:"
   ]
  },
  {
   "cell_type": "code",
   "execution_count": 6,
   "metadata": {},
   "outputs": [
    {
     "data": {
      "text/plain": [
       "Artist\n",
       "Kanye West        6394.0\n",
       "Drake             5212.0\n",
       "Eminem            3737.0\n",
       "Lil Wayne         3437.0\n",
       "Dr. Dre           2409.0\n",
       "Kendrick Lamar    2144.0\n",
       "Future            1993.0\n",
       "KiD CuDi          1965.0\n",
       "Young Thug        1869.0\n",
       "J. Cole           1791.0\n",
       "Name: Plays, dtype: float64"
      ]
     },
     "execution_count": 6,
     "metadata": {},
     "output_type": "execute_result"
    }
   ],
   "source": [
    "df.groupby('Artist')['Plays'].sum().sort_values(ascending=False).head(10)"
   ]
  },
  {
   "cell_type": "markdown",
   "metadata": {},
   "source": [
    "---"
   ]
  },
  {
   "cell_type": "markdown",
   "metadata": {},
   "source": [
    "### When did I add my music?"
   ]
  },
  {
   "cell_type": "markdown",
   "metadata": {},
   "source": [
    "Lets explore the \"Date Added\" column a bit further:"
   ]
  },
  {
   "cell_type": "code",
   "execution_count": 7,
   "metadata": {},
   "outputs": [],
   "source": [
    "df['date'] = pd.to_datetime(df['Date Added'])"
   ]
  },
  {
   "cell_type": "code",
   "execution_count": 8,
   "metadata": {},
   "outputs": [],
   "source": [
    "import datetime as dt"
   ]
  },
  {
   "cell_type": "code",
   "execution_count": 9,
   "metadata": {},
   "outputs": [],
   "source": [
    "df['year added'] = df.date.dt.year"
   ]
  },
  {
   "cell_type": "markdown",
   "metadata": {},
   "source": [
    "Number of songs added each year since 2008:"
   ]
  },
  {
   "cell_type": "code",
   "execution_count": 10,
   "metadata": {
    "scrolled": false
   },
   "outputs": [
    {
     "data": {
      "image/png": "[encoded data removed]",
      "text/plain": [
       "<Figure size 864x504 with 1 Axes>"
      ]
     },
     "metadata": {},
     "output_type": "display_data"
    }
   ],
   "source": [
    "df.groupby('year added')['Name'].count().plot(kind='bar', figsize=(12,7));"
   ]
  },
  {
   "cell_type": "markdown",
   "metadata": {},
   "source": [
    "How many songs by each artist?"
   ]
  },
  {
   "cell_type": "code",
   "execution_count": 11,
   "metadata": {},
   "outputs": [
    {
     "data": {
      "text/plain": [
       "Artist\n",
       "Lil Wayne           769\n",
       "Kanye West          478\n",
       "Max B               406\n",
       "Drake               372\n",
       "Young Thug          363\n",
       "Eminem              307\n",
       "The Beatles         238\n",
       "Future              226\n",
       "Jay-Z               223\n",
       "50 Cent             212\n",
       "Rick Ross           203\n",
       "The Game            199\n",
       "Gucci Mane          195\n",
       "Lupe Fiasco         184\n",
       "Big K.R.I.T.        161\n",
       "T.I.                151\n",
       "Kendrick Lamar      149\n",
       "KiD CuDi            146\n",
       "Childish Gambino    141\n",
       "Young Jeezy         140\n",
       "Name: Name, dtype: int64"
      ]
     },
     "execution_count": 11,
     "metadata": {},
     "output_type": "execute_result"
    }
   ],
   "source": [
    "df.groupby('Artist')['Name'].count().sort_values(ascending=False).head(20)"
   ]
  },
  {
   "cell_type": "markdown",
   "metadata": {},
   "source": [
    "Any albums that take too much space?"
   ]
  },
  {
   "cell_type": "code",
   "execution_count": 12,
   "metadata": {
    "scrolled": false
   },
   "outputs": [
    {
     "data": {
      "text/plain": [
       "Album\n",
       "Beats To Die For                                4536173070\n",
       "Las 100 canciones mas Rolling de la historia     796668246\n",
       "Lil Wayne: Features 2008                         738100105\n",
       "Lil Wayne: Features 2009                         610656625\n",
       "Lil Wayne: Features 2007                         442395387\n",
       "Young Thug: Unreleased 2013/14                   437894388\n",
       "The Very Best Of Magic Elton John                422766718\n",
       "Trilogy                                          384985237\n",
       "Drake: Unreleased                                373790389\n",
       "Lil Wayne: Unreleased 2009-2010                  370065413\n",
       "Pre-CD                                           369917893\n",
       "The Very Best Of Julio                           364981223\n",
       "Lil Wayne: Features 2011                         350403395\n",
       "Drake: Unreleased 2008 - 2010                    333568798\n",
       "All Eyez On Me                                   319427902\n",
       "Young Thug: Unreleased 2015                      317240905\n",
       "Kendrick Lamar: Unreleased                       314160726\n",
       "Lil Wayne: Features 2010                         304063442\n",
       "Full Clip: A Decade of Gang Starr                301729046\n",
       "Jay Electronica: Unreleased                      297419888\n",
       "Name: Size, dtype: int64"
      ]
     },
     "execution_count": 12,
     "metadata": {},
     "output_type": "execute_result"
    }
   ],
   "source": [
    "df.groupby('Album')['Size'].sum().sort_values(ascending=False).head(20)"
   ]
  },
  {
   "cell_type": "markdown",
   "metadata": {},
   "source": [
    "Most prominent artists?"
   ]
  },
  {
   "cell_type": "code",
   "execution_count": 13,
   "metadata": {},
   "outputs": [
    {
     "data": {
      "text/plain": [
       "Artist\n",
       "Lil Wayne         5397803194\n",
       "Kanye West        3536349402\n",
       "Eminem            2652024132\n",
       "Drake             2625875364\n",
       "Young Thug        2518144010\n",
       "Jay-Z             2072159130\n",
       "Max B             1851016635\n",
       "Rick Ross         1828655981\n",
       "The Game          1681830802\n",
       "Lupe Fiasco       1666063347\n",
       "Future            1662648520\n",
       "50 Cent           1588213462\n",
       "The Weeknd        1421696212\n",
       "T.I.              1303741183\n",
       "Kendrick Lamar    1272798074\n",
       "Gucci Mane        1254794022\n",
       "Big K.R.I.T.      1228719661\n",
       "J. Cole           1127844091\n",
       "The Beatles       1120364689\n",
       "Lana Del Rey      1107195096\n",
       "Name: Size, dtype: int64"
      ]
     },
     "execution_count": 13,
     "metadata": {},
     "output_type": "execute_result"
    }
   ],
   "source": [
    "df.groupby('Artist')['Size'].sum().sort_values(ascending=False).head(20)"
   ]
  },
  {
   "cell_type": "markdown",
   "metadata": {},
   "source": [
    "---"
   ]
  },
  {
   "cell_type": "markdown",
   "metadata": {},
   "source": [
    "### Identifying most skipped artists"
   ]
  },
  {
   "cell_type": "markdown",
   "metadata": {},
   "source": [
    "First let's take a look at number of plays vs storage size, trying to identify artists that take too much HD storage:"
   ]
  },
  {
   "cell_type": "code",
   "execution_count": 14,
   "metadata": {},
   "outputs": [
    {
     "data": {
      "image/png": "[encoded data removed]",
      "text/plain": [
       "<Figure size 864x360 with 1 Axes>"
      ]
     },
     "metadata": {},
     "output_type": "display_data"
    }
   ],
   "source": [
    "plt.subplots(figsize=(12,5))\n",
    "plt.scatter(df.groupby('Artist')['Plays'].sum(), df.groupby('Artist')['Size'].sum())\n",
    "plt.show()"
   ]
  },
  {
   "cell_type": "markdown",
   "metadata": {},
   "source": [
    "Nothing too noticeable..."
   ]
  },
  {
   "cell_type": "markdown",
   "metadata": {},
   "source": [
    "Which artists do I skip the most?"
   ]
  },
  {
   "cell_type": "code",
   "execution_count": 15,
   "metadata": {},
   "outputs": [
    {
     "data": {
      "image/png": "[encoded data removed]",
      "text/plain": [
       "<Figure size 864x360 with 1 Axes>"
      ]
     },
     "metadata": {},
     "output_type": "display_data"
    }
   ],
   "source": [
    "plt.subplots(figsize=(12,5))\n",
    "plt.scatter(df.groupby('Artist')['Plays'].sum(), df.groupby('Artist')['Skips'].sum())\n",
    "plt.show()"
   ]
  },
  {
   "cell_type": "code",
   "execution_count": 16,
   "metadata": {},
   "outputs": [
    {
     "name": "stderr",
     "output_type": "stream",
     "text": [
      "/anaconda3/lib/python3.6/site-packages/ipykernel_launcher.py:1: UserWarning: Boolean Series key will be reindexed to match DataFrame index.\n",
      "  \"\"\"Entry point for launching an IPython kernel.\n"
     ]
    },
    {
     "data": {
      "text/plain": [
       "['Arctic Monkeys',\n",
       " 'Bill Conti',\n",
       " 'Coldplay',\n",
       " 'Fito y Fitipaldis',\n",
       " 'Fort Minor',\n",
       " 'Real Madrid',\n",
       " 'Shakira',\n",
       " 'Soulja Boy']"
      ]
     },
     "execution_count": 16,
     "metadata": {},
     "output_type": "execute_result"
    }
   ],
   "source": [
    "skipped = df.groupby('Artist')[['Skips']].sum()[df.groupby('Artist')[['Skips']].sum()['Skips']>1000][df.groupby('Artist')[['Plays']].sum()['Plays']<2000]\n",
    "\n",
    "list(skipped.index)"
   ]
  },
  {
   "cell_type": "code",
   "execution_count": 17,
   "metadata": {},
   "outputs": [],
   "source": [
    "art = pd.DataFrame(df.groupby('Artist')['Plays'].sum())"
   ]
  },
  {
   "cell_type": "code",
   "execution_count": 18,
   "metadata": {},
   "outputs": [],
   "source": [
    "songs = []\n",
    "for artist in art.index:\n",
    "    songs.append(df[df['Artist']==artist]['Name'].count())\n",
    "art['Songs'] = songs\n",
    "    "
   ]
  },
  {
   "cell_type": "markdown",
   "metadata": {},
   "source": [
    "Lets figure out the ratio between number of overall plays and number of songs by a given artist:"
   ]
  },
  {
   "cell_type": "code",
   "execution_count": 19,
   "metadata": {},
   "outputs": [],
   "source": [
    "art['Ratio'] = art['Plays']/art['Songs']"
   ]
  },
  {
   "cell_type": "code",
   "execution_count": 20,
   "metadata": {},
   "outputs": [
    {
     "data": {
      "text/html": [
       "<div>\n",
       "<style scoped>\n",
       "    .dataframe tbody tr th:only-of-type {\n",
       "        vertical-align: middle;\n",
       "    }\n",
       "\n",
       "    .dataframe tbody tr th {\n",
       "        vertical-align: top;\n",
       "    }\n",
       "\n",
       "    .dataframe thead th {\n",
       "        text-align: right;\n",
       "    }\n",
       "</style>\n",
       "<table border=\"1\" class=\"dataframe\">\n",
       "  <thead>\n",
       "    <tr style=\"text-align: right;\">\n",
       "      <th></th>\n",
       "      <th>Plays</th>\n",
       "      <th>Songs</th>\n",
       "      <th>Ratio</th>\n",
       "    </tr>\n",
       "    <tr>\n",
       "      <th>Artist</th>\n",
       "      <th></th>\n",
       "      <th></th>\n",
       "      <th></th>\n",
       "    </tr>\n",
       "  </thead>\n",
       "  <tbody>\n",
       "    <tr>\n",
       "      <th>Billie the Vision &amp; The Dancers</th>\n",
       "      <td>117.0</td>\n",
       "      <td>1</td>\n",
       "      <td>117.0</td>\n",
       "    </tr>\n",
       "    <tr>\n",
       "      <th>Madcon</th>\n",
       "      <td>97.0</td>\n",
       "      <td>1</td>\n",
       "      <td>97.0</td>\n",
       "    </tr>\n",
       "    <tr>\n",
       "      <th>Hilltop Hoods</th>\n",
       "      <td>77.0</td>\n",
       "      <td>1</td>\n",
       "      <td>77.0</td>\n",
       "    </tr>\n",
       "    <tr>\n",
       "      <th>Dispatch</th>\n",
       "      <td>75.0</td>\n",
       "      <td>1</td>\n",
       "      <td>75.0</td>\n",
       "    </tr>\n",
       "    <tr>\n",
       "      <th>The Triangles</th>\n",
       "      <td>65.0</td>\n",
       "      <td>1</td>\n",
       "      <td>65.0</td>\n",
       "    </tr>\n",
       "  </tbody>\n",
       "</table>\n",
       "</div>"
      ],
      "text/plain": [
       "                                 Plays  Songs  Ratio\n",
       "Artist                                              \n",
       "Billie the Vision & The Dancers  117.0      1  117.0\n",
       "Madcon                            97.0      1   97.0\n",
       "Hilltop Hoods                     77.0      1   77.0\n",
       "Dispatch                          75.0      1   75.0\n",
       "The Triangles                     65.0      1   65.0"
      ]
     },
     "execution_count": 20,
     "metadata": {},
     "output_type": "execute_result"
    }
   ],
   "source": [
    "art = art.sort_values(by='Ratio', ascending=False)\n",
    "art.head()"
   ]
  },
  {
   "cell_type": "code",
   "execution_count": 21,
   "metadata": {
    "scrolled": true
   },
   "outputs": [
    {
     "name": "stdout",
     "output_type": "stream",
     "text": [
      "Coldplay\n",
      "22.0\n",
      "Bill Conti\n",
      "17.0\n",
      "Fort Minor\n",
      "16.666666666666668\n",
      "Shakira\n",
      "8.789473684210526\n",
      "Arctic Monkeys\n",
      "8.055555555555555\n",
      "Fito y Fitipaldis\n",
      "5.0\n",
      "Real Madrid\n",
      "4.333333333333333\n",
      "Soulja Boy\n",
      "3.9047619047619047\n"
     ]
    }
   ],
   "source": [
    "for i in range(len(art.index)):\n",
    "    if art.index[i] in skipped.index:\n",
    "        print(art.index[i])\n",
    "        print(art['Ratio'][i])"
   ]
  },
  {
   "cell_type": "markdown",
   "metadata": {},
   "source": [
    "These artists, although being very skippable, have high plays/songs ratios. I need to check what songs are making me skip these artists so often."
   ]
  },
  {
   "cell_type": "markdown",
   "metadata": {},
   "source": [
    "---"
   ]
  },
  {
   "cell_type": "markdown",
   "metadata": {},
   "source": [
    "### Spreaded Artists"
   ]
  },
  {
   "cell_type": "markdown",
   "metadata": {},
   "source": [
    "Some individual artists team up with other musical acts, so they are spread through many artist names:"
   ]
  },
  {
   "cell_type": "code",
   "execution_count": 22,
   "metadata": {},
   "outputs": [
    {
     "name": "stdout",
     "output_type": "stream",
     "text": [
      "Birdman & Young Thug\n",
      "Young Thug & Travi$ Scott\n",
      "Young Thug\n",
      "Young Thug, Rich Homie Quan & Birdman\n",
      "Young Thug & Rich Homie Quan\n",
      "Future & Young Thug\n",
      "Young Thug & T.I.\n",
      "Gucci Mane & Young Thug\n",
      "Young Thug & Bloody Jay\n",
      "Young Thug & Young Stoner Life Records\n",
      "Young Thug & Carnage\n"
     ]
    }
   ],
   "source": [
    "for artist in art.index:\n",
    "    if 'Young Thug' in artist:\n",
    "        print(artist)"
   ]
  },
  {
   "cell_type": "code",
   "execution_count": 23,
   "metadata": {},
   "outputs": [
    {
     "name": "stdout",
     "output_type": "stream",
     "text": [
      "French Montana\n",
      "French Montana & Max B\n",
      "French Montana & Coke Boys\n",
      "French Montana & Fetty Wap\n",
      "Meek Mill, Pill, Torch & Rick Ross feat. French Montana\n"
     ]
    }
   ],
   "source": [
    "for artist in art.index:\n",
    "    if 'French Montana' in artist:\n",
    "        print(artist)"
   ]
  },
  {
   "cell_type": "markdown",
   "metadata": {},
   "source": [
    "---"
   ]
  },
  {
   "cell_type": "markdown",
   "metadata": {},
   "source": [
    "### Take Action!"
   ]
  },
  {
   "cell_type": "markdown",
   "metadata": {},
   "source": [
    "Number of Artists in my library I have never listened to"
   ]
  },
  {
   "cell_type": "code",
   "execution_count": 24,
   "metadata": {},
   "outputs": [
    {
     "data": {
      "text/plain": [
       "554"
      ]
     },
     "execution_count": 24,
     "metadata": {},
     "output_type": "execute_result"
    }
   ],
   "source": [
    "art[art['Ratio']==0].shape[0]"
   ]
  },
  {
   "cell_type": "markdown",
   "metadata": {},
   "source": [
    "Artists I have listened to at least once, but need to relisten to see if they are worth keeping:"
   ]
  },
  {
   "cell_type": "code",
   "execution_count": 25,
   "metadata": {},
   "outputs": [
    {
     "name": "stderr",
     "output_type": "stream",
     "text": [
      "/anaconda3/lib/python3.6/site-packages/ipykernel_launcher.py:1: UserWarning: Boolean Series key will be reindexed to match DataFrame index.\n",
      "  \"\"\"Entry point for launching an IPython kernel.\n"
     ]
    },
    {
     "data": {
      "text/plain": [
       "141"
      ]
     },
     "execution_count": 25,
     "metadata": {},
     "output_type": "execute_result"
    }
   ],
   "source": [
    "art[art['Ratio']<1][art['Ratio']>0].shape[0]"
   ]
  },
  {
   "cell_type": "code",
   "execution_count": 26,
   "metadata": {},
   "outputs": [
    {
     "name": "stdout",
     "output_type": "stream",
     "text": [
      "['The Alchemist', 'Deltron 3030', 'Zaytoven', 'Bishop Lamont', 'Ace Hood', 'Grandmaster Flash & The Furious Five', 'Mick Jenkins', 'Giggs', 'R. Kelly', 'Burial', 'Despot', 'Makaveli', 'Pink Floyd', 'A Tribe Called Quest', 'Lil Peep', 'Max B', 'Cardi B', 'King Louie', 'Slick Rick', 'Captain Beefheart & The Magic Band', 'Blu', 'Ed Sheeran', 'Foxygen', \"Royce Da 5'9''\", 'RL Grime', 'The Pussycat Dolls', 'Meat Loaf', 'Remy Boyz', 'Damian Marley', 'Animal Collective', 'Toto', 'Mike G', 'Nirvana', 'Nina Simone', 'The Fugees', 'Phoenix', 'CyHi The Prynce', 'Sia', 'C2C', 'TLC', 'Dom Kennedy', 'French Montana & Coke Boys', 'Do Or Die', 'Spandau Ballet', 'Pimp C', 'Chinx Drugz', 'Fat Trel', 'Sir Michael Rocks', 'Mura Masa', 'Tekitha/Wu-Tang Clan', 'Double A', 'Consequence', 'SreyLeak', 'Johnny Mathis & Deniece Williams', 'T-Pain & Lil Wayne', 'Madeintyo', 'Umberto Tozzi', 'Dej Loaf', 'Method Man', 'ROWDY REBEL FT BOBBY SHMURDA', 'The Pharcyde', 'Pill', 'Yung Berg', 'Street Military', 'Lil Bibby', 'DJ Shadow', 'Moby', 'French Montana & Fetty Wap', \"D'Angelo & The Vanguard\", 'N.E.R.D.', 'Cappadonna/Wu-Tang Clan', 'Kelly Rowland', 'Young Scooter', 'Kevin Gates', 'Mana', 'Mac DeMarco', 'Rhymefest', 'SZA', 'Youngboy Never Broke Again', 'MF DOOM', 'Big Pun', 'Dr. Octagon', 'Mavado', 'Jamie xx', 'R.I.O.', 'Junior M.A.F.I.A.', 'Will Smith', 'The Jacksons', 'Bodega BAMZ', 'Go Getters', 'N.O.R.E.', 'Freeway', 'Eric B. & Rakim', 'Little Brother', 'Kendrick Lamar ', 'Steve Lacy', 'Juan Luis Guerra', 'Public Enemy', 'Gang Starr', \"D'Angelo\", 'Rage Against The Machine', 'Oneohtrix Point Never', 'Young Thug & Young Stoner Life Records', 'T-Wayne', 'Yo Gotti', 'B.G.', 'LL Cool J', 'Lil Twist', 'Gucci Mane & Chief Keef', 'Pharrell', 'Kevin Rudolf', 'John Williams', 'Joy Division', 'Diddy', 'Young Chop', 'Trina', 'Lauryn Hill', 'DJ ESCO', 'Nujabes', 'Ornette Coleman', 'Jae Millz', 'Imogen Heap', 'DMX', 'Da Mafia 6ix', 'Quasimoto', 'NxWorries, Anderson .Paak & Knxwledge', 'Julio Iglesias', 'Lil Wayne & Juelz Santana', '$ki Mask, The Slump God', 'Roc Marciano', 'Porta', 'De La Soul', 'DJ Screw', 'Jadakiss', \"Ol' Dirty Bastard\", 'Kaaris', 'Chase & Status', 'Richie Branson & Solar Slim', 'Lucki ', 'Sauce Twinz', 'Juelz Santana']\n"
     ]
    },
    {
     "name": "stderr",
     "output_type": "stream",
     "text": [
      "/anaconda3/lib/python3.6/site-packages/ipykernel_launcher.py:1: UserWarning: Boolean Series key will be reindexed to match DataFrame index.\n",
      "  \"\"\"Entry point for launching an IPython kernel.\n"
     ]
    }
   ],
   "source": [
    "print(list(art[art['Ratio']<1][art['Ratio']>0].index))"
   ]
  },
  {
   "cell_type": "markdown",
   "metadata": {},
   "source": [
    "There are a few artist that I will keep based on their critical acclaim and cultural impact, artists such as Rakim, ODB, D'Angelo, Deltron 3030 and so on. I might remove some of the non-rap bands like Phoenix or Joy Division, I don't see myself actively listening to them, so I will keep only some essential songs by them."
   ]
  },
  {
   "cell_type": "markdown",
   "metadata": {},
   "source": [
    "I think this the fastest way to start cleansing my library from unwanted music, targeting those artists that are rarely listened to."
   ]
  },
  {
   "cell_type": "markdown",
   "metadata": {},
   "source": [
    "## Next Steps"
   ]
  },
  {
   "cell_type": "markdown",
   "metadata": {},
   "source": [
    "I should review Networks and try to understand how artists are linked to each other through features."
   ]
  }
 ],
 "metadata": {
  "kernelspec": {
   "display_name": "Python 3",
   "language": "python",
   "name": "python3"
  },
  "language_info": {
   "codemirror_mode": {
    "name": "ipython",
    "version": 3
   },
   "file_extension": ".py",
   "mimetype": "text/x-python",
   "name": "python",
   "nbconvert_exporter": "python",
   "pygments_lexer": "ipython3",
   "version": "3.6.5"
  }
 },
 "nbformat": 4,
 "nbformat_minor": 2
}
